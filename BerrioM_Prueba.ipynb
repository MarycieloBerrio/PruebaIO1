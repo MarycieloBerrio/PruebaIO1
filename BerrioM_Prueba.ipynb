{
  "nbformat": 4,
  "nbformat_minor": 0,
  "metadata": {
    "colab": {
      "provenance": [],
      "toc_visible": true,
      "authorship_tag": "ABX9TyPmwuF390wckGlpi7qzUS8N",
      "include_colab_link": true
    },
    "kernelspec": {
      "name": "python3",
      "display_name": "Python 3"
    },
    "language_info": {
      "name": "python"
    }
  },
  "cells": [
    {
      "cell_type": "markdown",
      "metadata": {
        "id": "view-in-github",
        "colab_type": "text"
      },
      "source": [
        "<a href=\"https://colab.research.google.com/github/MarycieloBerrio/PruebaIO1/blob/main/BerrioM_Prueba.ipynb\" target=\"_parent\"><img src=\"https://colab.research.google.com/assets/colab-badge.svg\" alt=\"Open In Colab\"/></a>"
      ]
    },
    {
      "cell_type": "markdown",
      "source": [
        "# Titulo\n",
        "## Subtitulo"
      ],
      "metadata": {
        "id": "pr2zR3Q3eu-E"
      }
    },
    {
      "cell_type": "code",
      "source": [
        "print('Hola mundo')"
      ],
      "metadata": {
        "colab": {
          "base_uri": "https://localhost:8080/"
        },
        "id": "qYoK04QXdkDD",
        "outputId": "a32a1db7-eab9-4054-fa38-0d1185a674e0"
      },
      "execution_count": null,
      "outputs": [
        {
          "output_type": "stream",
          "name": "stdout",
          "text": [
            "Hola mundo\n"
          ]
        }
      ]
    },
    {
      "cell_type": "markdown",
      "source": [
        "# **XD**"
      ],
      "metadata": {
        "id": "50TiCs5kfB27"
      }
    },
    {
      "cell_type": "code",
      "source": [
        "print('Holi')"
      ],
      "metadata": {
        "colab": {
          "base_uri": "https://localhost:8080/"
        },
        "id": "Pck3BSA5fMKd",
        "outputId": "f1594735-aa73-4cf8-a302-0bd1e190a0c8"
      },
      "execution_count": null,
      "outputs": [
        {
          "output_type": "stream",
          "name": "stdout",
          "text": [
            "Holi\n"
          ]
        }
      ]
    }
  ]
}